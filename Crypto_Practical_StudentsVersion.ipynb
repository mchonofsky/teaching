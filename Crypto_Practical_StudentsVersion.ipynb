{
  "nbformat": 4,
  "nbformat_minor": 0,
  "metadata": {
    "colab": {
      "provenance": [],
      "toc_visible": true
    },
    "kernelspec": {
      "name": "python3",
      "display_name": "Python 3"
    },
    "language_info": {
      "name": "python"
    }
  },
  "cells": [
    {
      "cell_type": "markdown",
      "source": [
        "# Intro to Crypto math practical\n",
        "\n",
        "## Purpose\n",
        "\n",
        "Cryptography is at the heart of everything we do. The guaranteed security of cryptography is the reason we can remote into machines, make payments online, authenticate users, and more. **By the end of this practical** you should be able to:\n",
        "\n",
        "* explain the fundamentals of modular arithmetic\n",
        "* explain the mathematical principle by which RSA works\n",
        "* explain how to use RSA\n",
        "\n",
        "## Structure\n",
        "\n",
        "This is an interactive practical. You're going to write functions in Python that accomplish key tasks. 2LT Chonofsky and CPT Faivre are available as demonstrators. You are also free to use online resources to help with the mechanics of writing code."
      ],
      "metadata": {
        "id": "ipO1UXjg4666"
      }
    },
    {
      "cell_type": "markdown",
      "source": [
        "## RSA key generation\n",
        "### Some math\n",
        "\n",
        "RSA is the backbone of web encryption and a particularly simple example of a *public-key* encryption algorithm.\n",
        "\n",
        "The RSA algorithm relies on the idea that you can choose two numbers ($P$ and $Q$) in some mod base which make this equation always true for any $a$.\n",
        "\n",
        "$$\n",
        "a^{P^{Q}} = a\n",
        "$$\n",
        "\n",
        "Once again: we're picking two special numbers. Then we raise $a$ to the first number and the second number and get $a$ back. This happens using modular arithmetic, i.e., on a (very large) clock face.\n",
        "\n"
      ],
      "metadata": {
        "id": "CXTyh5rrgAY8"
      }
    },
    {
      "cell_type": "code",
      "execution_count": null,
      "metadata": {
        "colab": {
          "base_uri": "https://localhost:8080/"
        },
        "id": "Rtl2bDV54z9I",
        "outputId": "d0d4729d-53c2-46c4-b236-77ce91b211c3"
      },
      "outputs": [
        {
          "output_type": "stream",
          "name": "stdout",
          "text": [
            "mod_exp(2,20,13):\n",
            "  Value: 9\n",
            "  md5: a493c3ba33a513f11fc611288e8ab649\n",
            "  Correct!\n",
            "\n"
          ]
        }
      ],
      "source": [
        "# write a function that raises a to the power P mod N\n",
        "def mod_exp(a, P, N):\n",
        "  return None\n",
        "\n",
        "mod_exp(2,20,13)"
      ]
    },
    {
      "cell_type": "markdown",
      "source": [
        "OK, great! Now we need to verify some facts about modular arithmetic. Pick a mod base and a number that is larger than that base - for example, if you picked base 7, you could also pick 13. $13 = 6\\ \\textrm{mod}\\ 7$. Then check that no matter what power $x$ you choose, $6^x\\ \\textrm{mod}\\ 7 = 13^x\\ \\textrm{mod}\\ 7$, so you can 'do the mod' before exponentiating."
      ],
      "metadata": {
        "id": "blP690ehMKQA"
      }
    },
    {
      "cell_type": "code",
      "source": [
        "# try with some other numbers!\n",
        "\n",
        "print(mod_exp(6,  5, 7))\n",
        "print(mod_exp(13, 5, 7))"
      ],
      "metadata": {
        "colab": {
          "base_uri": "https://localhost:8080/"
        },
        "id": "BVzECsq8O4c8",
        "outputId": "5d33a829-6ac3-4288-8219-06e1b8ee97b6"
      },
      "execution_count": null,
      "outputs": [
        {
          "output_type": "stream",
          "name": "stdout",
          "text": [
            "6\n",
            "6\n"
          ]
        }
      ]
    },
    {
      "cell_type": "markdown",
      "source": [
        "Now try computing $96^{1,000,000,000}\\ \\textrm{mod}\\ 5$. It probably will appear not to work - it is getting stuck because the numbers involved are too large. (You can interrupt the execution by pressing `Ctrl+M I`, or selecting Interrupt in the Runtime menu.)\n",
        "\n",
        "Thinking about the last question, how can you modify your `mod_exp` to make it work? Do so. We will need to modify `mod_exp` further later, but this is the computational core of RSA."
      ],
      "metadata": {
        "id": "ynRdKpzZXuCR"
      }
    },
    {
      "cell_type": "code",
      "source": [
        "print(mod_exp(96,1000000000,5))"
      ],
      "metadata": {
        "colab": {
          "base_uri": "https://localhost:8080/"
        },
        "id": "lI_RX8RFPvdN",
        "outputId": "6d70211b-d6a3-447a-fcbd-f38be81c32be"
      },
      "execution_count": null,
      "outputs": [
        {
          "output_type": "stream",
          "name": "stdout",
          "text": [
            "1\n"
          ]
        }
      ]
    },
    {
      "cell_type": "markdown",
      "source": [
        "### Generating keys\n",
        "\n",
        "Here's the rough scheme by which we will be generating RSA keys.\n",
        "\n",
        "1. Pick two random prime numbers (let's say: 3 and 7). Their product is $n$ (21)\n",
        "2. Find a magic number $\\phi(n)$ that is smaller than n. There's some complexity here - a whole lot of extra math to do - but we can avoid all that math because of the choice we made for $n$. For our special case, $\\phi(n) = n - (p + q - 1)$. For example: $21 - (3+7-1)=12$.\n",
        "3. Find a smaller number $e$ that has no common divisors with $\\phi(n)$. $e$ along with $n$ is your public key. For example, 5 will do.\n",
        "4. Find the number $d$ such that $d \\times e = 1\\ \\textrm{mod}\\ \\phi(n)$. $d$ is your private key. $5\\times 5 = 25 = 1\\ \\textrm{mod}\\ 12$. 5 is the private key."
      ],
      "metadata": {
        "id": "1VQILuy-imTZ"
      }
    },
    {
      "cell_type": "markdown",
      "source": [
        "\n",
        "First - write a function `is_prime` that returns `True` if a number is prime and `False` otherwise. Do this by checking that the number is 0 mod every number (or every odd number) up to the square root of the number. Why don't we need to check any numbers above the square root?"
      ],
      "metadata": {
        "id": "5wRoKEbQka2_"
      }
    },
    {
      "cell_type": "code",
      "source": [
        "import math\n",
        "# math.sqrt is the square root function\n",
        "\n",
        "def is_prime(n):\n",
        "  if n % 2 == 0:\n",
        "    pass\n",
        "  for i in range(3, math.floor(math.sqrt(n))+2, 2):\n",
        "    pass\n",
        "print(is_prime(18757), is_prime(18767)) # should be True, False"
      ],
      "metadata": {
        "colab": {
          "base_uri": "https://localhost:8080/"
        },
        "id": "Z-T291eAhkDK",
        "outputId": "0d327e0d-b24f-47dd-88af-be5bdc51f4a9"
      },
      "execution_count": null,
      "outputs": [
        {
          "output_type": "stream",
          "name": "stdout",
          "text": [
            "True False\n"
          ]
        }
      ]
    },
    {
      "cell_type": "markdown",
      "source": [
        "Now we're going to use `is_prime` to randomly select two prime numbers, which we will call p and q."
      ],
      "metadata": {
        "id": "_V3aU0MIshTV"
      }
    },
    {
      "cell_type": "code",
      "source": [
        "import random\n",
        "random.seed(100)\n",
        "\n",
        "def get_p_q():\n",
        "  while True:\n",
        "    p = random.randint(100000, 100000000)\n",
        "    if is_prime(p):\n",
        "      break\n",
        "  while True:\n",
        "    pass\n",
        "  print(f\"p = {p}\")\n",
        "  print(f\"q = {q}\")\n",
        "  return p,q\n",
        "\n",
        "p,q = get_p_q()"
      ],
      "metadata": {
        "colab": {
          "base_uri": "https://localhost:8080/"
        },
        "id": "NriErps9s5uW",
        "outputId": "ecf32981-e7af-40cd-a8a9-0e78e8758fae"
      },
      "execution_count": null,
      "outputs": [
        {
          "output_type": "stream",
          "name": "stdout",
          "text": [
            "p = 53185283\n",
            "q = 40351841\n"
          ]
        }
      ]
    },
    {
      "cell_type": "markdown",
      "source": [
        "### Extended Euler's algorithm\n",
        "\n",
        "#### Overview\n",
        "\n",
        "Most of the next section is a complicated algorithm for transforming $p$ and $q$ into other numbers that will work with the modular exponentiation math we discussed earlier. To refresh your memory, we're looking for two numbers $P$ and $Q$, along with a $\\textrm{mod}\\ N$. This will allow us to take any number $a$ and raise it to $P$ and then $Q$ and get $a$ back.\n",
        "\n",
        "#### The details\n",
        "\n",
        "This is an algorithm for finding the greatest common divisor (gcd) of two numbers, along with the numbers $x$ and $y$ that satisfy the equation $ax + by = \\textrm{gcd}(a,b)$.\n",
        "\n",
        "We're going to use it to find the value of something called Carmichael's totient function. Then, using a related algorithm,"
      ],
      "metadata": {
        "id": "8HR0I3d9siNR"
      }
    },
    {
      "cell_type": "code",
      "source": [
        "def extended_euclid(a,b):\n",
        "  if a > b: partial_diffs = [a,b]\n",
        "  else: partial_diffs = [b,a]\n",
        "  quotients = []\n",
        "  s = [1,0]\n",
        "  t = [0,1]\n",
        "\n",
        "  while True:\n",
        "    remainder = partial_diffs[-2] % partial_diffs[-1]\n",
        "    quotient = partial_diffs[-2] // partial_diffs[-1]\n",
        "    quotients.append(quotient)\n",
        "    partial_diffs.append(remainder)\n",
        "    s.append(s[-2] - quotient * s[-1])\n",
        "    t.append(t[-2] - quotient * t[-1])\n",
        "    if remainder == 0:\n",
        "      break\n",
        "  return partial_diffs, quotients, s, t\n",
        "\n",
        "def gcd(a,b):\n",
        "  diffs, _, _, _ = extended_euclid(a,b)\n",
        "  return diffs[-2]\n",
        "\n",
        "def bezout_coefficients(a,b):\n",
        "  _, _, s, t = extended_euclid(a,b)\n",
        "  return s[-2], t[-2]\n",
        "\n",
        "def phi(a,b):\n",
        "  return a*b - (a + b - 1)"
      ],
      "metadata": {
        "id": "e5oBq9hz0PEx"
      },
      "execution_count": null,
      "outputs": []
    },
    {
      "cell_type": "markdown",
      "source": [
        "Write a loop that selects a random number $e$ between 1 and `phi(p,q)`. Check that your number has $\\textrm{gcd}(\\phi(pq),e) = 1$ and pick another number if that is not true."
      ],
      "metadata": {
        "id": "miC2wRbC5QhG"
      }
    },
    {
      "cell_type": "code",
      "source": [
        "random.seed(999)\n",
        "while True:\n",
        "  break\n",
        "print(f\"\\nTogether, these two numbers form the public key:\\n\\ne = {e}\\npq = {p*q}\")"
      ],
      "metadata": {
        "colab": {
          "base_uri": "https://localhost:8080/"
        },
        "id": "kvWxeDaf5xEy",
        "outputId": "c5c4ddda-7b63-41b1-bc27-1636c5ff6f79"
      },
      "execution_count": null,
      "outputs": [
        {
          "output_type": "stream",
          "name": "stdout",
          "text": [
            "\n",
            "Together, these two numbers form the public key:\n",
            "\n",
            "e = 1278542496901893\n",
            "pq = 2146124083156003\n"
          ]
        }
      ]
    },
    {
      "cell_type": "markdown",
      "source": [
        "Step 4 requires us to find the number $d$ that when multiplied by $e$ gives us 1 (mod $pq$). In other words, $de$ is one more than a multiple of $\\phi(pq)$.\n",
        "$$\n",
        "de = 1 + (\\textrm{a multiple of}\\ \\phi(pq))\n",
        "$$\n",
        "\n",
        "Let's call that multiple $\\alpha$:\n",
        "$$\n",
        "de = 1 + \\alpha(\\phi(pq))\n",
        "$$\n",
        "Subtract $\\alpha(pq)$ from both sides:\n",
        "$$\n",
        "de + (-\\alpha)(\\phi(pq)) = 1\n",
        "$$\n",
        "\n",
        "We know $e$ and $\\phi(pq)$. We are trying to find $d$ and $-\\alpha$, and, in fact, we don't care about $-\\alpha$. There is an algorithm for doing this: the Extended Euclidean Algorithm, which gives the so-called Bézout coefficients $d$ and $-\\alpha$.\n",
        "\n",
        "Use the function `bezout_coefficients` to find $d$ and $-\\alpha$:"
      ],
      "metadata": {
        "id": "YDzZKERP6K-R"
      }
    },
    {
      "cell_type": "code",
      "source": [
        "alpha, d = bezout_coefficients(e, phi(p,q))\n",
        "d %= phi(p,q) # in case d is negative, make it positive\n",
        "print(f\"{d} is the private key\")\n",
        "print(f\"{e} and {p*q} is the public key\")"
      ],
      "metadata": {
        "colab": {
          "base_uri": "https://localhost:8080/"
        },
        "id": "wrHWUYiQ6rvQ",
        "outputId": "287858b7-2351-42f1-8455-3e3c6ca4a383"
      },
      "execution_count": null,
      "outputs": [
        {
          "output_type": "stream",
          "name": "stdout",
          "text": [
            "1230229340088397 is the private key\n",
            "1278542496901893 and 2146124083156003 is the public key\n",
            "\n",
            "\n",
            "Did we solve it? 1 should be 1\n"
          ]
        }
      ]
    },
    {
      "cell_type": "markdown",
      "source": [
        "### To summarize - test it!\n",
        "We did a bunch of math and got two numbers: $d$ and $e$, along with a base $pq$. For any number $a$, it should be true that\n",
        "$$\n",
        "\\left ( a^{d} \\right )^{e}= a\\ \\textrm{mod}\\ pq\n",
        "$$\n",
        "\n",
        "**There's one problem.** Your d and e and pq will be way too large to do this computation easily. We need to turbocharge `mod_exp` using a clever algorithm before we can be done.\n",
        "\n",
        "#### The algorithm\n",
        "\n",
        "Let's say we want to raise 3 to the power 25. That's $3\\times 3 \\times 3\\ \\dots \\times\\ 3$ where the \"times three\" is repeated 25 times.\n",
        "\n",
        "Instead, let's break $3^{25}$ into binary powers:\n",
        "\n",
        "$$\n",
        "3^{25} = 3^{16} \\times 3^9 = 3^{16} \\times 3^8 \\times 3^1\n",
        "$$\n",
        "\n",
        "and we can break this down further:\n",
        "\n",
        "$$\n",
        "3^{16} \\times 3^8 \\times 3^1 = 3^{2^{2^{2^{2}}}} \\times 3^{2^{2^2}} \\times 3\n",
        "$$\n",
        "\n",
        "Since all of these numbers have to be modulo something, we're going to take the mods *as soon as possible* to keep the numbers *as small as possible*."
      ],
      "metadata": {
        "id": "CM7huQLq7Phj"
      }
    },
    {
      "cell_type": "code",
      "source": [
        "\n",
        "import math\n",
        "def speedy_mod_exp(base, power, modulus):\n",
        "    # get base**(2**max_base_two)\n",
        "    # get the remaining powers still to multiply in\n",
        "    # calculate max base two for the remaining powers\n",
        "    # loop or (better!) recurse until max base two is 0\n",
        "\n",
        "    pass\n",
        "\n",
        "\n"
      ],
      "metadata": {
        "id": "hbJTAPAH7PCC"
      },
      "execution_count": 13,
      "outputs": []
    },
    {
      "cell_type": "code",
      "source": [
        "# check it!\n",
        "import sys\n",
        "# should happen fast\n",
        "print(speedy_mod_exp(201,2000009,51200000))\n",
        "sys.stdout.flush()\n",
        "# should happen slow\n",
        "print(       mod_exp(201,2000009,51200000))"
      ],
      "metadata": {
        "colab": {
          "base_uri": "https://localhost:8080/"
        },
        "id": "fF4bay4MaFyN",
        "outputId": "c384e955-b427-40cf-9770-be1696e02a40"
      },
      "execution_count": 11,
      "outputs": [
        {
          "output_type": "stream",
          "name": "stdout",
          "text": [
            "1332904442188598882914303814092775476447514001065760753441801\n"
          ]
        }
      ]
    },
    {
      "cell_type": "markdown",
      "source": [
        "Now we'll go back to our private key $d$ and public key $e$ and $pq$."
      ],
      "metadata": {
        "id": "Y5cvQDyfOoJm"
      }
    },
    {
      "cell_type": "code",
      "source": [
        "# use speedy_mod_exp to raise a number of your choosing to the power d\n",
        "# then raise the result to e, both mod p*q\n",
        "\n",
        "m = (speedy_mod_exp(12,e,p*q))\n",
        "print(m)\n",
        "print(speedy_mod_exp(m, d, p*q))"
      ],
      "metadata": {
        "colab": {
          "base_uri": "https://localhost:8080/"
        },
        "id": "qwP-kVsdCP3x",
        "outputId": "1031b38e-7e8a-4bfc-cf40-a7f62b50ca17"
      },
      "execution_count": null,
      "outputs": [
        {
          "output_type": "stream",
          "name": "stdout",
          "text": [
            "1717481739389891\n",
            "12\n"
          ]
        }
      ]
    },
    {
      "cell_type": "markdown",
      "source": [
        "## Using keys!\n",
        "\n",
        "### Level 0 - encryption and decryption\n",
        "\n",
        "Pick a number and encrypt it with a secret key (exponentiate it to the power $d$, mod $pq$). Then share it with someone near you, along with your public key $e$ and $pq$ (the product, remember, not the individual numbers). Check that they can figure out what your first number was. Be sure to remove the `random.seed(x)` calls before you generate your number!\n"
      ],
      "metadata": {
        "id": "foApxSInWBq4"
      }
    },
    {
      "cell_type": "code",
      "source": [
        "# you can use this code block to do the computation"
      ],
      "metadata": {
        "id": "zyYHeqs_U0Eg"
      },
      "execution_count": null,
      "outputs": []
    },
    {
      "cell_type": "markdown",
      "source": [
        "### Extension 1 - block cypher\n",
        "\n",
        "Expressed as a continuous stream of bits, real-world messages would be very, very big numbers. When the size of your message exceeds $pq$, your mod base, the encryption scheme breaks because you can never recover the message from the modular arithmetic. Insted, we break the message into shorter sections which we will encrypt individually."
      ],
      "metadata": {
        "id": "WBtqr9d79zhq"
      }
    },
    {
      "cell_type": "code",
      "source": [
        "# these are the preliminary parts - string processing - fill in the first one!\n",
        "\n",
        "def get_blocks(text):\n",
        "  # write a function that breaks a string into a list of five-character blocks\n",
        "  pass\n",
        "\n",
        "print(get_blocks('hello world')) # make sure this works: ['hello', ' worl', 'd']\n",
        "\n",
        "def get_integer(text):\n",
        "  # this is a function that takes a string and represents it as the integer that\n",
        "  # is the concatenation of the two-digit hex values that represent its chars,\n",
        "  # as a decimal number\n",
        "\n",
        "  # for example  'abc' -> 0x61,0x62,0x63 -> 616263 -> 6382179\n",
        "  return int( ''.join(\n",
        "      [hex(ord(i)).split('x')[1] for i in text]\n",
        "      ) , 16)\n",
        "\n",
        "def get_chars(number):\n",
        "  # this is a function that inverts the previous function:\n",
        "  # takes a decimal number, converts it to hex, splits the hex into two-digit\n",
        "  # numbers, and converts back to ascii\n",
        "\n",
        "  chars = []\n",
        "  hex_long = str(int(number, 16)).zfill(10) # fill to length ten in case leading zeros\n",
        "  for x in range(0, len(hex_long), 2):\n",
        "    hex_short = hex_long[x:x+2]\n",
        "    chars.append(chr(int(hex_short, 16)))\n",
        "  return ''.join(chars)\n",
        "\n",
        "print(get_integer('abc'),get_chars(get_integer('abc')))\n",
        "\n",
        "def get_integer_blocks(text):\n",
        "  # use the above functions to break a longer text into integers\n",
        "  blocks = get_blocks(text)\n",
        "  return [get_integer(block) for block in blocks]\n",
        "\n",
        "def get_long_string(integer_blocks):\n",
        "  # inverts the above\n",
        "  return ''.join([get_chars(block) for block in integer_blocks])\n"
      ],
      "metadata": {
        "colab": {
          "base_uri": "https://localhost:8080/"
        },
        "id": "0293j5-x-AO9",
        "outputId": "353a7b88-4ae8-4879-9139-f84dd0c6538f"
      },
      "execution_count": null,
      "outputs": [
        {
          "output_type": "execute_result",
          "data": {
            "text/plain": [
              "6382179"
            ]
          },
          "metadata": {},
          "execution_count": 12
        }
      ]
    },
    {
      "cell_type": "markdown",
      "source": [
        "\n",
        "### Level 2 - a long message\n",
        "* Encrypt the section of the Declaration of Independence (below) by splitting it into blocks of five characters at a time. Show that you can decrypt it."
      ],
      "metadata": {
        "id": "k-QuPp5IYzN5"
      }
    },
    {
      "cell_type": "code",
      "source": [],
      "metadata": {
        "id": "s_lrYJsnY3Nw"
      },
      "execution_count": null,
      "outputs": []
    },
    {
      "cell_type": "markdown",
      "source": [
        "\n",
        "\n",
        "### Level 3 - digital signatures\n",
        "* How can you use this system to prove that you wrote a message? Use a digital signature process based in RSA of your own invention to sign the Declaration of Independence excerpt. (You may use `hashlib` to provide a hash of the text.)"
      ],
      "metadata": {
        "id": "RkqoUyp7940Y"
      }
    },
    {
      "cell_type": "code",
      "source": [
        "# enc/dec\n",
        "N = 5\n",
        "msg_full = (\"\"\"\n",
        "He has combined with others to subject us to a jurisdiction foreign to our constitution, and unacknowledged by our laws; giving his Assent to their Acts of pretended Legislation:\n",
        "\n",
        "For Quartering large bodies of armed troops among us:\n",
        "\n",
        "For protecting them, by a mock Trial, from punishment for any Murders which they should commit on the Inhabitants of these States:\n",
        "\n",
        "For cutting off our Trade with all parts of the world:\n",
        "\n",
        "For imposing Taxes on us without our Consent:\n",
        "\n",
        "For depriving us in many cases, of the benefits of Trial by Jury:\n",
        "\n",
        "For transporting us beyond Seas to be tried for pretended offences:\"\"\")\n",
        "\n",
        "if len(msg_full) % N != 0:\n",
        "  msg_full += ' ' * (N - len(msg_full) % N)\n",
        "\n",
        "for x in range(0, len(msg_full), N):\n",
        "  msg = msg_full[x:x+N]\n",
        "\n",
        "  msg = '1' + ''.join([str(ord(x)).zfill(3) for x in msg])\n",
        "  print(msg)\n",
        "\n",
        "  # 950873696872261 is the private key\n",
        "  # 483800656279913 and 2371655501883223 is the public key\n",
        "  # encrypt\n",
        "\n",
        "  cy = speedy_mod_exp(int(msg), 483800656279913, 2371655501883223)\n",
        "  print(cy)\n",
        "  decy = speedy_mod_exp(cy, 950873696872261, 2371655501883223)\n",
        "  print(decy)\n",
        "\n",
        "  recovered = str(decy)[1:]\n",
        "  txt = []\n",
        "  for i in range(0, len(recovered), 3):\n",
        "    txt.append(chr(int(recovered[i:i+3])))\n",
        "  print(''.join(txt))\n",
        "  print()\n"
      ],
      "metadata": {
        "colab": {
          "base_uri": "https://localhost:8080/"
        },
        "id": "K4URiRfiYysj",
        "outputId": "a220d565-76f0-4517-fc37-f0fbb24d7425"
      },
      "execution_count": null,
      "outputs": [
        {
          "output_type": "stream",
          "name": "stdout",
          "text": [
            "1070111117114115\n",
            "2128647101454650\n",
            "1070111117114115\n",
            "Fours\n",
            "\n",
            "1099111114101032\n",
            "919954784957861\n",
            "1099111114101032\n",
            "core \n",
            "\n",
            "1097110100032115\n",
            "245075216097472\n",
            "1097110100032115\n",
            "and s\n",
            "\n",
            "1101118101110032\n",
            "1532281752214902\n",
            "1101118101110032\n",
            "even \n",
            "\n",
            "1121101097114115\n",
            "1138277667260808\n",
            "1121101097114115\n",
            "years\n",
            "\n",
            "1032097103111044\n",
            "1313815995228284\n",
            "1032097103111044\n",
            " ago,\n",
            "\n",
            "1032111117114032\n",
            "85501977763733\n",
            "1032111117114032\n",
            " our \n",
            "\n",
            "1102111114101102\n",
            "1998069338306761\n",
            "1102111114101102\n",
            "foref\n",
            "\n",
            "1097116104101114\n",
            "630916504091808\n",
            "1097116104101114\n",
            "ather\n",
            "\n",
            "1115032098114111\n",
            "225172777305290\n",
            "1115032098114111\n",
            "s bro\n",
            "\n",
            "1117103104116032\n",
            "1727768705589857\n",
            "1117103104116032\n",
            "ught \n",
            "\n",
            "1102111114116104\n",
            "1844507516942075\n",
            "1102111114116104\n",
            "forth\n",
            "\n",
            "1032111110032116\n",
            "1717252926023558\n",
            "1032111110032116\n",
            " on t\n",
            "\n",
            "1104105115032032\n",
            "705929907938126\n",
            "1104105115032032\n",
            "his  \n",
            "\n"
          ]
        }
      ]
    }
  ]
}